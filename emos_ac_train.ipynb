{
 "cells": [
  {
   "cell_type": "code",
   "execution_count": 62,
   "metadata": {},
   "outputs": [],
   "source": [
    "import numpy as np\n",
    "import pandas as pd\n",
    "from sklearn.preprocessing import StandardScaler\n",
    "from sklearn.linear_model import LogisticRegression\n",
    "import matplotlib.pyplot as plt\n",
    "from matplotlib import rcParams\n",
    "from xgboost import XGBClassifier\n",
    "from sklearn.neighbors import KNeighborsClassifier\n",
    "from sklearn.tree import DecisionTreeClassifier\n",
    "from sklearn.metrics import classification_report\n",
    "from sklearn.metrics import confusion_matrix\n",
    "from sklearn.ensemble import AdaBoostClassifier\n",
    "from sklearn.ensemble import GradientBoostingClassifier\n",
    "from sklearn.ensemble import ExtraTreesClassifier"
   ]
  },
  {
   "cell_type": "code",
   "execution_count": 63,
   "metadata": {},
   "outputs": [],
   "source": [
    "rcParams['figure.figsize'] = 14, 7\n",
    "rcParams['axes.spines.top'] = False\n",
    "rcParams['axes.spines.right'] = False"
   ]
  },
  {
   "cell_type": "markdown",
   "metadata": {},
   "source": [
    "# Data Exploration"
   ]
  },
  {
   "cell_type": "code",
   "execution_count": 64,
   "metadata": {},
   "outputs": [
    {
     "name": "stdout",
     "output_type": "stream",
     "text": [
      "(105540, 12)\n",
      "False\n",
      "Unnamed: 0    0\n",
      "load          0\n",
      "ac            0\n",
      "hourofday     0\n",
      "dayofweek     0\n",
      "dif           0\n",
      "absdif        0\n",
      "max           0\n",
      "var           0\n",
      "entropy       0\n",
      "nonlinear     0\n",
      "hurst         0\n",
      "dtype: int64\n"
     ]
    }
   ],
   "source": [
    "\n",
    "data_test=pd.read_csv(\"ac_test_data.csv\")\n",
    "print(data_test.shape)\n",
    "print(data_test.isnull().values.any())\n",
    "print(data_test.isnull().sum())\n",
    "\n",
    "data_test=data_test.drop(['Unnamed: 0'],axis = 1)"
   ]
  },
  {
   "cell_type": "code",
   "execution_count": 65,
   "metadata": {},
   "outputs": [
    {
     "name": "stdout",
     "output_type": "stream",
     "text": [
      "(417720, 12)\n",
      "False\n",
      "Unnamed: 0    0\n",
      "load          0\n",
      "ac            0\n",
      "hourofday     0\n",
      "dayofweek     0\n",
      "dif           0\n",
      "absdif        0\n",
      "max           0\n",
      "var           0\n",
      "entropy       0\n",
      "nonlinear     0\n",
      "hurst         0\n",
      "dtype: int64\n"
     ]
    }
   ],
   "source": [
    "data_train=pd.read_csv(\"ac_train_data.csv\")\n",
    "print(data_train.shape)\n",
    "print(data_train.isnull().values.any())\n",
    "print(data_train.isnull().sum())\n",
    "\n",
    "data_train=data_train.drop(['Unnamed: 0'],axis = 1)"
   ]
  },
  {
   "cell_type": "code",
   "execution_count": 66,
   "metadata": {},
   "outputs": [
    {
     "data": {
      "text/html": [
       "<div>\n",
       "<style scoped>\n",
       "    .dataframe tbody tr th:only-of-type {\n",
       "        vertical-align: middle;\n",
       "    }\n",
       "\n",
       "    .dataframe tbody tr th {\n",
       "        vertical-align: top;\n",
       "    }\n",
       "\n",
       "    .dataframe thead th {\n",
       "        text-align: right;\n",
       "    }\n",
       "</style>\n",
       "<table border=\"1\" class=\"dataframe\">\n",
       "  <thead>\n",
       "    <tr style=\"text-align: right;\">\n",
       "      <th></th>\n",
       "      <th>load</th>\n",
       "      <th>ac</th>\n",
       "      <th>hourofday</th>\n",
       "      <th>dif</th>\n",
       "      <th>absdif</th>\n",
       "      <th>max</th>\n",
       "      <th>var</th>\n",
       "      <th>entropy</th>\n",
       "      <th>nonlinear</th>\n",
       "      <th>hurst</th>\n",
       "    </tr>\n",
       "  </thead>\n",
       "  <tbody>\n",
       "    <tr>\n",
       "      <th>count</th>\n",
       "      <td>417720.000000</td>\n",
       "      <td>417720.000000</td>\n",
       "      <td>417720.000000</td>\n",
       "      <td>4.177200e+05</td>\n",
       "      <td>417720.000000</td>\n",
       "      <td>417720.000000</td>\n",
       "      <td>417720.000000</td>\n",
       "      <td>417720.000000</td>\n",
       "      <td>417720.000000</td>\n",
       "      <td>417720.000000</td>\n",
       "    </tr>\n",
       "    <tr>\n",
       "      <th>mean</th>\n",
       "      <td>2.184664</td>\n",
       "      <td>0.242265</td>\n",
       "      <td>11.484487</td>\n",
       "      <td>-7.038207e-07</td>\n",
       "      <td>0.159578</td>\n",
       "      <td>3.977086</td>\n",
       "      <td>1.871247</td>\n",
       "      <td>0.707766</td>\n",
       "      <td>1.468806</td>\n",
       "      <td>0.972744</td>\n",
       "    </tr>\n",
       "    <tr>\n",
       "      <th>std</th>\n",
       "      <td>1.890565</td>\n",
       "      <td>0.428454</td>\n",
       "      <td>6.920358</td>\n",
       "      <td>5.309284e-01</td>\n",
       "      <td>0.506379</td>\n",
       "      <td>2.131094</td>\n",
       "      <td>1.787633</td>\n",
       "      <td>0.094367</td>\n",
       "      <td>2.610744</td>\n",
       "      <td>0.065439</td>\n",
       "    </tr>\n",
       "    <tr>\n",
       "      <th>min</th>\n",
       "      <td>0.298000</td>\n",
       "      <td>0.000000</td>\n",
       "      <td>0.000000</td>\n",
       "      <td>-7.970000e+00</td>\n",
       "      <td>0.000000</td>\n",
       "      <td>0.000000</td>\n",
       "      <td>0.000000</td>\n",
       "      <td>0.000000</td>\n",
       "      <td>0.000000</td>\n",
       "      <td>0.000000</td>\n",
       "    </tr>\n",
       "    <tr>\n",
       "      <th>25%</th>\n",
       "      <td>0.807000</td>\n",
       "      <td>0.000000</td>\n",
       "      <td>5.000000</td>\n",
       "      <td>-1.100000e-02</td>\n",
       "      <td>0.002000</td>\n",
       "      <td>1.786000</td>\n",
       "      <td>0.077337</td>\n",
       "      <td>0.645582</td>\n",
       "      <td>0.271757</td>\n",
       "      <td>0.987936</td>\n",
       "    </tr>\n",
       "    <tr>\n",
       "      <th>50%</th>\n",
       "      <td>1.279000</td>\n",
       "      <td>0.000000</td>\n",
       "      <td>11.000000</td>\n",
       "      <td>-1.000000e-03</td>\n",
       "      <td>0.010000</td>\n",
       "      <td>4.652000</td>\n",
       "      <td>1.984612</td>\n",
       "      <td>0.676446</td>\n",
       "      <td>0.698592</td>\n",
       "      <td>0.992059</td>\n",
       "    </tr>\n",
       "    <tr>\n",
       "      <th>75%</th>\n",
       "      <td>3.358000</td>\n",
       "      <td>0.000000</td>\n",
       "      <td>17.000000</td>\n",
       "      <td>8.000000e-03</td>\n",
       "      <td>0.043000</td>\n",
       "      <td>5.446000</td>\n",
       "      <td>3.508556</td>\n",
       "      <td>0.740986</td>\n",
       "      <td>1.598501</td>\n",
       "      <td>0.993138</td>\n",
       "    </tr>\n",
       "    <tr>\n",
       "      <th>max</th>\n",
       "      <td>11.794000</td>\n",
       "      <td>1.000000</td>\n",
       "      <td>23.000000</td>\n",
       "      <td>7.619000e+00</td>\n",
       "      <td>7.970000</td>\n",
       "      <td>11.794000</td>\n",
       "      <td>16.344863</td>\n",
       "      <td>0.999987</td>\n",
       "      <td>54.611741</td>\n",
       "      <td>0.996802</td>\n",
       "    </tr>\n",
       "  </tbody>\n",
       "</table>\n",
       "</div>"
      ],
      "text/plain": [
       "                load             ac      hourofday           dif  \\\n",
       "count  417720.000000  417720.000000  417720.000000  4.177200e+05   \n",
       "mean        2.184664       0.242265      11.484487 -7.038207e-07   \n",
       "std         1.890565       0.428454       6.920358  5.309284e-01   \n",
       "min         0.298000       0.000000       0.000000 -7.970000e+00   \n",
       "25%         0.807000       0.000000       5.000000 -1.100000e-02   \n",
       "50%         1.279000       0.000000      11.000000 -1.000000e-03   \n",
       "75%         3.358000       0.000000      17.000000  8.000000e-03   \n",
       "max        11.794000       1.000000      23.000000  7.619000e+00   \n",
       "\n",
       "              absdif            max            var        entropy  \\\n",
       "count  417720.000000  417720.000000  417720.000000  417720.000000   \n",
       "mean        0.159578       3.977086       1.871247       0.707766   \n",
       "std         0.506379       2.131094       1.787633       0.094367   \n",
       "min         0.000000       0.000000       0.000000       0.000000   \n",
       "25%         0.002000       1.786000       0.077337       0.645582   \n",
       "50%         0.010000       4.652000       1.984612       0.676446   \n",
       "75%         0.043000       5.446000       3.508556       0.740986   \n",
       "max         7.970000      11.794000      16.344863       0.999987   \n",
       "\n",
       "           nonlinear          hurst  \n",
       "count  417720.000000  417720.000000  \n",
       "mean        1.468806       0.972744  \n",
       "std         2.610744       0.065439  \n",
       "min         0.000000       0.000000  \n",
       "25%         0.271757       0.987936  \n",
       "50%         0.698592       0.992059  \n",
       "75%         1.598501       0.993138  \n",
       "max        54.611741       0.996802  "
      ]
     },
     "execution_count": 66,
     "metadata": {},
     "output_type": "execute_result"
    }
   ],
   "source": [
    "data_train.describe()"
   ]
  },
  {
   "cell_type": "code",
   "execution_count": 67,
   "metadata": {},
   "outputs": [
    {
     "data": {
      "text/plain": [
       "load         float64\n",
       "ac             int64\n",
       "hourofday      int64\n",
       "dayofweek     object\n",
       "dif          float64\n",
       "absdif       float64\n",
       "max          float64\n",
       "var          float64\n",
       "entropy      float64\n",
       "nonlinear    float64\n",
       "hurst        float64\n",
       "dtype: object"
      ]
     },
     "execution_count": 67,
     "metadata": {},
     "output_type": "execute_result"
    }
   ],
   "source": [
    "data_train.dtypes"
   ]
  },
  {
   "cell_type": "code",
   "execution_count": 68,
   "metadata": {},
   "outputs": [
    {
     "data": {
      "text/html": [
       "<div>\n",
       "<style scoped>\n",
       "    .dataframe tbody tr th:only-of-type {\n",
       "        vertical-align: middle;\n",
       "    }\n",
       "\n",
       "    .dataframe tbody tr th {\n",
       "        vertical-align: top;\n",
       "    }\n",
       "\n",
       "    .dataframe thead th {\n",
       "        text-align: right;\n",
       "    }\n",
       "</style>\n",
       "<table border=\"1\" class=\"dataframe\">\n",
       "  <thead>\n",
       "    <tr style=\"text-align: right;\">\n",
       "      <th></th>\n",
       "      <th>load</th>\n",
       "      <th>ac</th>\n",
       "      <th>hourofday</th>\n",
       "      <th>dayofweek</th>\n",
       "      <th>dif</th>\n",
       "      <th>absdif</th>\n",
       "      <th>max</th>\n",
       "      <th>var</th>\n",
       "      <th>entropy</th>\n",
       "      <th>nonlinear</th>\n",
       "      <th>hurst</th>\n",
       "    </tr>\n",
       "  </thead>\n",
       "  <tbody>\n",
       "    <tr>\n",
       "      <th>0</th>\n",
       "      <td>2.245</td>\n",
       "      <td>0</td>\n",
       "      <td>0</td>\n",
       "      <td>Sun</td>\n",
       "      <td>0.987</td>\n",
       "      <td>0.987</td>\n",
       "      <td>6.215</td>\n",
       "      <td>3.074549</td>\n",
       "      <td>0.678886</td>\n",
       "      <td>0.052903</td>\n",
       "      <td>0.994071</td>\n",
       "    </tr>\n",
       "    <tr>\n",
       "      <th>1</th>\n",
       "      <td>2.259</td>\n",
       "      <td>0</td>\n",
       "      <td>0</td>\n",
       "      <td>Sun</td>\n",
       "      <td>0.014</td>\n",
       "      <td>0.014</td>\n",
       "      <td>6.215</td>\n",
       "      <td>3.172867</td>\n",
       "      <td>0.667450</td>\n",
       "      <td>0.054829</td>\n",
       "      <td>0.994154</td>\n",
       "    </tr>\n",
       "    <tr>\n",
       "      <th>2</th>\n",
       "      <td>2.269</td>\n",
       "      <td>0</td>\n",
       "      <td>0</td>\n",
       "      <td>Sun</td>\n",
       "      <td>0.010</td>\n",
       "      <td>0.010</td>\n",
       "      <td>6.215</td>\n",
       "      <td>3.270112</td>\n",
       "      <td>0.647777</td>\n",
       "      <td>0.056991</td>\n",
       "      <td>0.994220</td>\n",
       "    </tr>\n",
       "    <tr>\n",
       "      <th>3</th>\n",
       "      <td>2.268</td>\n",
       "      <td>0</td>\n",
       "      <td>0</td>\n",
       "      <td>Sun</td>\n",
       "      <td>-0.001</td>\n",
       "      <td>0.001</td>\n",
       "      <td>6.215</td>\n",
       "      <td>3.303763</td>\n",
       "      <td>0.629227</td>\n",
       "      <td>0.057606</td>\n",
       "      <td>0.994150</td>\n",
       "    </tr>\n",
       "    <tr>\n",
       "      <th>4</th>\n",
       "      <td>2.270</td>\n",
       "      <td>0</td>\n",
       "      <td>0</td>\n",
       "      <td>Sun</td>\n",
       "      <td>0.002</td>\n",
       "      <td>0.002</td>\n",
       "      <td>6.215</td>\n",
       "      <td>3.302744</td>\n",
       "      <td>0.621295</td>\n",
       "      <td>0.082640</td>\n",
       "      <td>0.994041</td>\n",
       "    </tr>\n",
       "    <tr>\n",
       "      <th>5</th>\n",
       "      <td>2.259</td>\n",
       "      <td>0</td>\n",
       "      <td>0</td>\n",
       "      <td>Sun</td>\n",
       "      <td>-0.011</td>\n",
       "      <td>0.011</td>\n",
       "      <td>6.215</td>\n",
       "      <td>3.298258</td>\n",
       "      <td>0.626956</td>\n",
       "      <td>0.089788</td>\n",
       "      <td>0.993986</td>\n",
       "    </tr>\n",
       "    <tr>\n",
       "      <th>6</th>\n",
       "      <td>2.250</td>\n",
       "      <td>0</td>\n",
       "      <td>0</td>\n",
       "      <td>Sun</td>\n",
       "      <td>-0.009</td>\n",
       "      <td>0.009</td>\n",
       "      <td>6.215</td>\n",
       "      <td>3.289135</td>\n",
       "      <td>0.640121</td>\n",
       "      <td>0.085276</td>\n",
       "      <td>0.993927</td>\n",
       "    </tr>\n",
       "    <tr>\n",
       "      <th>7</th>\n",
       "      <td>2.251</td>\n",
       "      <td>0</td>\n",
       "      <td>0</td>\n",
       "      <td>Sun</td>\n",
       "      <td>0.001</td>\n",
       "      <td>0.001</td>\n",
       "      <td>6.215</td>\n",
       "      <td>3.238982</td>\n",
       "      <td>0.651916</td>\n",
       "      <td>0.354203</td>\n",
       "      <td>0.992703</td>\n",
       "    </tr>\n",
       "    <tr>\n",
       "      <th>8</th>\n",
       "      <td>2.264</td>\n",
       "      <td>0</td>\n",
       "      <td>0</td>\n",
       "      <td>Sun</td>\n",
       "      <td>0.013</td>\n",
       "      <td>0.013</td>\n",
       "      <td>6.215</td>\n",
       "      <td>3.203236</td>\n",
       "      <td>0.655600</td>\n",
       "      <td>0.372529</td>\n",
       "      <td>0.992474</td>\n",
       "    </tr>\n",
       "    <tr>\n",
       "      <th>9</th>\n",
       "      <td>2.277</td>\n",
       "      <td>0</td>\n",
       "      <td>0</td>\n",
       "      <td>Sun</td>\n",
       "      <td>0.013</td>\n",
       "      <td>0.013</td>\n",
       "      <td>6.215</td>\n",
       "      <td>3.196127</td>\n",
       "      <td>0.650006</td>\n",
       "      <td>0.366578</td>\n",
       "      <td>0.992308</td>\n",
       "    </tr>\n",
       "  </tbody>\n",
       "</table>\n",
       "</div>"
      ],
      "text/plain": [
       "    load  ac  hourofday dayofweek    dif  absdif    max       var   entropy  \\\n",
       "0  2.245   0          0       Sun  0.987   0.987  6.215  3.074549  0.678886   \n",
       "1  2.259   0          0       Sun  0.014   0.014  6.215  3.172867  0.667450   \n",
       "2  2.269   0          0       Sun  0.010   0.010  6.215  3.270112  0.647777   \n",
       "3  2.268   0          0       Sun -0.001   0.001  6.215  3.303763  0.629227   \n",
       "4  2.270   0          0       Sun  0.002   0.002  6.215  3.302744  0.621295   \n",
       "5  2.259   0          0       Sun -0.011   0.011  6.215  3.298258  0.626956   \n",
       "6  2.250   0          0       Sun -0.009   0.009  6.215  3.289135  0.640121   \n",
       "7  2.251   0          0       Sun  0.001   0.001  6.215  3.238982  0.651916   \n",
       "8  2.264   0          0       Sun  0.013   0.013  6.215  3.203236  0.655600   \n",
       "9  2.277   0          0       Sun  0.013   0.013  6.215  3.196127  0.650006   \n",
       "\n",
       "   nonlinear     hurst  \n",
       "0   0.052903  0.994071  \n",
       "1   0.054829  0.994154  \n",
       "2   0.056991  0.994220  \n",
       "3   0.057606  0.994150  \n",
       "4   0.082640  0.994041  \n",
       "5   0.089788  0.993986  \n",
       "6   0.085276  0.993927  \n",
       "7   0.354203  0.992703  \n",
       "8   0.372529  0.992474  \n",
       "9   0.366578  0.992308  "
      ]
     },
     "execution_count": 68,
     "metadata": {},
     "output_type": "execute_result"
    }
   ],
   "source": [
    "data_train.head(10)"
   ]
  },
  {
   "cell_type": "code",
   "execution_count": 69,
   "metadata": {},
   "outputs": [],
   "source": [
    "data_train=data_train.drop(['load'],axis = 1)\n",
    "data_train=data_train.drop(['hourofday'],axis = 1)\n",
    "data_train=data_train.drop(['dayofweek'],axis = 1)"
   ]
  },
  {
   "cell_type": "code",
   "execution_count": 70,
   "metadata": {},
   "outputs": [],
   "source": [
    "data_test=data_test.drop(['load'],axis = 1)\n",
    "data_test=data_test.drop(['hourofday'],axis = 1)\n",
    "data_test=data_test.drop(['dayofweek'],axis = 1)"
   ]
  },
  {
   "cell_type": "code",
   "execution_count": 71,
   "metadata": {},
   "outputs": [
    {
     "name": "stdout",
     "output_type": "stream",
     "text": [
      "<class 'pandas.core.frame.DataFrame'>\n",
      "<class 'pandas.core.frame.DataFrame'>\n"
     ]
    }
   ],
   "source": [
    "#X_train = data_train.drop('ac', axis=1)\n",
    "#y_train = data_train['ac']\n",
    "X_test=data_test.drop('ac', axis=1)\n",
    "y_test=data_test['ac']\n",
    "print(type(X_train))\n",
    "\n",
    "print(type(X_test))"
   ]
  },
  {
   "cell_type": "code",
   "execution_count": 72,
   "metadata": {},
   "outputs": [],
   "source": [
    "ss = StandardScaler()\n",
    "X_train_scaled = ss.fit_transform(X_train)\n",
    "X_test_scaled = ss.transform(X_test)"
   ]
  },
  {
   "cell_type": "markdown",
   "metadata": {},
   "source": [
    "# Feature Importance 1"
   ]
  },
  {
   "cell_type": "code",
   "execution_count": 73,
   "metadata": {},
   "outputs": [],
   "source": [
    "#co efficient base feature importance\n",
    "model = LogisticRegression()\n",
    "model.fit(X_train_scaled, y_train)\n",
    "importances = pd.DataFrame(data={\n",
    "    'Attribute': X_train.columns,\n",
    "    'Importance': model.coef_[0]\n",
    "})\n",
    "importances = importances.sort_values(by='Importance', ascending=False)"
   ]
  },
  {
   "cell_type": "code",
   "execution_count": 74,
   "metadata": {},
   "outputs": [
    {
     "data": {
      "image/png": "[encoded data removed]",
      "text/plain": [
       "<Figure size 1008x504 with 1 Axes>"
      ]
     },
     "metadata": {
      "needs_background": "light"
     },
     "output_type": "display_data"
    }
   ],
   "source": [
    "plt.bar(x=importances['Attribute'], height=importances['Importance'], color='#087E8B')\n",
    "plt.title('Feature importances obtained from coefficients', size=20)\n",
    "plt.xticks(rotation='vertical')\n",
    "plt.show()"
   ]
  },
  {
   "cell_type": "markdown",
   "metadata": {},
   "source": [
    "# Feature Importance 2"
   ]
  },
  {
   "cell_type": "code",
   "execution_count": 75,
   "metadata": {},
   "outputs": [
    {
     "name": "stderr",
     "output_type": "stream",
     "text": [
      "C:\\ProgramData\\Anaconda3\\lib\\site-packages\\xgboost\\sklearn.py:1146: UserWarning: The use of label encoder in XGBClassifier is deprecated and will be removed in a future release. To remove this warning, do the following: 1) Pass option use_label_encoder=False when constructing XGBClassifier object; and 2) Encode your labels (y) as integers starting with 0, i.e. 0, 1, 2, ..., [num_class - 1].\n",
      "  warnings.warn(label_encoder_deprecation_msg, UserWarning)\n"
     ]
    },
    {
     "name": "stdout",
     "output_type": "stream",
     "text": [
      "[16:17:24] WARNING: C:/Users/Administrator/workspace/xgboost-win64_release_1.4.0/src/learner.cc:1095: Starting in XGBoost 1.3.0, the default evaluation metric used with the objective 'binary:logistic' was changed from 'error' to 'logloss'. Explicitly set eval_metric if you'd like to restore the old behavior.\n"
     ]
    }
   ],
   "source": [
    "#boosing and tree based feature importance calculation\n",
    "model = XGBClassifier()\n",
    "model.fit(X_train_scaled, y_train)\n",
    "importances = pd.DataFrame(data={\n",
    "    'Attribute': X_train.columns,\n",
    "    'Importance': model.feature_importances_\n",
    "})\n",
    "importances = importances.sort_values(by='Importance', ascending=False)"
   ]
  },
  {
   "cell_type": "code",
   "execution_count": 76,
   "metadata": {},
   "outputs": [
    {
     "data": {
      "image/png": "[encoded data removed]",
      "text/plain": [
       "<Figure size 1008x504 with 1 Axes>"
      ]
     },
     "metadata": {
      "needs_background": "light"
     },
     "output_type": "display_data"
    }
   ],
   "source": [
    "plt.bar(x=importances['Attribute'], height=importances['Importance'], color='#087E8B')\n",
    "plt.title('Feature importances obtained from coefficients', size=20)\n",
    "plt.xticks(rotation='vertical')\n",
    "plt.show()"
   ]
  },
  {
   "cell_type": "markdown",
   "metadata": {},
   "source": [
    "# Supervised Method Results"
   ]
  },
  {
   "cell_type": "code",
   "execution_count": 77,
   "metadata": {},
   "outputs": [
    {
     "name": "stdout",
     "output_type": "stream",
     "text": [
      "              precision    recall  f1-score   support\n",
      "\n",
      "           0       0.94      0.93      0.94     96221\n",
      "           1       0.36      0.38      0.37      9319\n",
      "\n",
      "    accuracy                           0.88    105540\n",
      "   macro avg       0.65      0.66      0.65    105540\n",
      "weighted avg       0.89      0.88      0.89    105540\n",
      "\n",
      "[[89851  6370]\n",
      " [ 5769  3550]]\n"
     ]
    }
   ],
   "source": [
    "#knn result\n",
    "knn = KNeighborsClassifier(n_neighbors=7)\n",
    "knn.fit(X_train, y_train)\n",
    "predictions_knn = knn.predict(X_test)\n",
    "\n",
    "\n",
    "print(classification_report(y_test, predictions_knn))\n",
    "print(confusion_matrix(y_test, predictions_knn))"
   ]
  },
  {
   "cell_type": "code",
   "execution_count": 78,
   "metadata": {},
   "outputs": [
    {
     "name": "stdout",
     "output_type": "stream",
     "text": [
      "              precision    recall  f1-score   support\n",
      "\n",
      "           0       0.95      0.93      0.94     96221\n",
      "           1       0.38      0.46      0.42      9319\n",
      "\n",
      "    accuracy                           0.89    105540\n",
      "   macro avg       0.66      0.69      0.68    105540\n",
      "weighted avg       0.90      0.89      0.89    105540\n",
      "\n",
      "[[89214  7007]\n",
      " [ 5035  4284]]\n"
     ]
    }
   ],
   "source": [
    "#decission tree result\n",
    "model = DecisionTreeClassifier()\n",
    "model.fit(X_train, y_train)\n",
    "predictions = model.predict(X_test)\n",
    "print(classification_report(y_test, predictions))\n",
    "print(confusion_matrix(y_test, predictions))"
   ]
  },
  {
   "cell_type": "code",
   "execution_count": 79,
   "metadata": {},
   "outputs": [
    {
     "name": "stdout",
     "output_type": "stream",
     "text": [
      "              precision    recall  f1-score   support\n",
      "\n",
      "           0       0.93      0.95      0.94     96221\n",
      "           1       0.39      0.31      0.34      9319\n",
      "\n",
      "    accuracy                           0.90    105540\n",
      "   macro avg       0.66      0.63      0.64    105540\n",
      "weighted avg       0.89      0.90      0.89    105540\n",
      "\n",
      "[[91728  4493]\n",
      " [ 6453  2866]]\n"
     ]
    }
   ],
   "source": [
    "#logistic regression\n",
    "clf = LogisticRegression(random_state=42).fit(X_train, y_train)\n",
    "predicts_logistic=clf.predict(X_test)\n",
    "print(classification_report(y_test, predicts_logistic))\n",
    "print(confusion_matrix(y_test, predicts_logistic))"
   ]
  },
  {
   "cell_type": "markdown",
   "metadata": {},
   "source": [
    "# Ensemble result"
   ]
  },
  {
   "cell_type": "code",
   "execution_count": 80,
   "metadata": {},
   "outputs": [
    {
     "name": "stdout",
     "output_type": "stream",
     "text": [
      "              precision    recall  f1-score   support\n",
      "\n",
      "           0       0.95      0.93      0.94     96221\n",
      "           1       0.41      0.48      0.44      9319\n",
      "\n",
      "    accuracy                           0.89    105540\n",
      "   macro avg       0.68      0.71      0.69    105540\n",
      "weighted avg       0.90      0.89      0.90    105540\n",
      "\n",
      "[[89714  6507]\n",
      " [ 4814  4505]]\n"
     ]
    }
   ],
   "source": [
    "#adaboost\n",
    "adb_clf = AdaBoostClassifier(n_estimators=100, random_state=42)\n",
    "adb_clf.fit(X_train, y_train)\n",
    "predicts_adaboost=adb_clf.predict(X_test)\n",
    "print(classification_report(y_test, predicts_adaboost))\n",
    "print(confusion_matrix(y_test, predicts_adaboost))"
   ]
  },
  {
   "cell_type": "code",
   "execution_count": 81,
   "metadata": {},
   "outputs": [
    {
     "name": "stdout",
     "output_type": "stream",
     "text": [
      "              precision    recall  f1-score   support\n",
      "\n",
      "           0       0.95      0.93      0.94     96221\n",
      "           1       0.41      0.49      0.44      9319\n",
      "\n",
      "    accuracy                           0.89    105540\n",
      "   macro avg       0.68      0.71      0.69    105540\n",
      "weighted avg       0.90      0.89      0.90    105540\n",
      "\n",
      "[[89609  6612]\n",
      " [ 4786  4533]]\n"
     ]
    }
   ],
   "source": [
    "#gradientboosting\n",
    "clf_gradboost = GradientBoostingClassifier(n_estimators=100, learning_rate=1.0,max_depth=1, random_state=0).fit(X_train, y_train)\n",
    "predicts_gradboost=clf_gradboost.predict(X_test)\n",
    "print(classification_report(y_test, predicts_gradboost))\n",
    "print(confusion_matrix(y_test, predicts_gradboost))"
   ]
  },
  {
   "cell_type": "code",
   "execution_count": 82,
   "metadata": {},
   "outputs": [
    {
     "name": "stdout",
     "output_type": "stream",
     "text": [
      "              precision    recall  f1-score   support\n",
      "\n",
      "           0       0.94      0.96      0.95     96221\n",
      "           1       0.45      0.36      0.40      9319\n",
      "\n",
      "    accuracy                           0.90    105540\n",
      "   macro avg       0.69      0.66      0.67    105540\n",
      "weighted avg       0.90      0.90      0.90    105540\n",
      "\n",
      "[[92021  4200]\n",
      " [ 5939  3380]]\n"
     ]
    }
   ],
   "source": [
    "#extratree classifier\n",
    "clf_ext = ExtraTreesClassifier(n_estimators=10, max_depth=None,min_samples_split=2, random_state=0).fit(X_train, y_train)\n",
    "predicts_ext=clf_ext.predict(X_test)\n",
    "print(classification_report(y_test, predicts_ext))\n",
    "print(confusion_matrix(y_test, predicts_ext))"
   ]
  },
  {
   "cell_type": "code",
   "execution_count": null,
   "metadata": {},
   "outputs": [],
   "source": []
  }
 ],
 "metadata": {
  "kernelspec": {
   "display_name": "Python 3",
   "language": "python",
   "name": "python3"
  },
  "language_info": {
   "codemirror_mode": {
    "name": "ipython",
    "version": 3
   },
   "file_extension": ".py",
   "mimetype": "text/x-python",
   "name": "python",
   "nbconvert_exporter": "python",
   "pygments_lexer": "ipython3",
   "version": "3.8.5"
  }
 },
 "nbformat": 4,
 "nbformat_minor": 4
}
